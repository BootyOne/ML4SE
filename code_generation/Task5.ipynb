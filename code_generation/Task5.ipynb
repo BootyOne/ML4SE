{
  "nbformat": 4,
  "nbformat_minor": 0,
  "metadata": {
    "colab": {
      "provenance": []
    },
    "kernelspec": {
      "name": "python3",
      "display_name": "Python 3"
    },
    "language_info": {
      "name": "python"
    },
    "accelerator": "GPU",
    "gpuClass": "standard"
  },
  "cells": [
    {
      "cell_type": "code",
      "execution_count": null,
      "metadata": {
        "id": "9dH5RNOCox7H"
      },
      "outputs": [],
      "source": [
        "!pip install tokenizers transformers"
      ]
    },
    {
      "cell_type": "markdown",
      "source": [
        "Код взят из [данного](https://github.com/dpfried/incoder) репозитория"
      ],
      "metadata": {
        "id": "UIw20PtDExxc"
      }
    },
    {
      "cell_type": "code",
      "source": [
        "from typing import List\n",
        "\n",
        "import torch\n",
        "import tokenizers\n",
        "from transformers import AutoModelForCausalLM, AutoTokenizer\n",
        "import json\n",
        "tokenizers_version = tuple(int(n) for n in tokenizers.__version__.split('.'))\n",
        "if tokenizers_version < (0, 12, 1):\n",
        "    print(\"warning: Your tokenizers version looks old and you will likely have formatting issues. We recommend installing tokenizers >= 0.12.1\")\n",
        "\n",
        "BIG_MODEL = False\n",
        "\n",
        "CUDA = True\n",
        "\n",
        "VERBOSE = False\n",
        "\n",
        "if BIG_MODEL:\n",
        "    model_name = \"facebook/incoder-6B\"\n",
        "    if CUDA:\n",
        "        kwargs = dict(\n",
        "            revision=\"float16\", \n",
        "            torch_dtype=torch.float16,\n",
        "            low_cpu_mem_usage=True,\n",
        "        )\n",
        "    else:\n",
        "        kwargs = dict(\n",
        "            low_cpu_mem_usage=True,\n",
        "        )\n",
        "else:\n",
        "    model_name = \"facebook/incoder-1B\"\n",
        "    kwargs = {}\n",
        "\n",
        "print(\"loading model\")\n",
        "model = AutoModelForCausalLM.from_pretrained(model_name, **kwargs)\n",
        "print(\"loading tokenizer\")\n",
        "tokenizer = AutoTokenizer.from_pretrained(model_name)\n",
        "print(\"loading complete\")\n",
        "\n",
        "if CUDA:\n",
        "    model = model.half().cuda()\n",
        "\n",
        "BOS = \"<|endoftext|>\"\n",
        "EOM = \"<|endofmask|>\"\n",
        "\n",
        "def make_sentinel(i):\n",
        "    return f\"<|mask:{i}|>\"\n",
        "\n",
        "def generate(input: str, max_to_generate: int=128, temperature: float=0.2):\n",
        "    input_ids = tokenizer(input, return_tensors=\"pt\").input_ids\n",
        "    if CUDA:\n",
        "        input_ids = input_ids.cuda()\n",
        "    max_length = max_to_generate + input_ids.flatten().size(0)\n",
        "    if max_length > 2048:\n",
        "        print(\"warning: max_length {} is greater than the context window {}\".format(max_length, 2048))\n",
        "    with torch.no_grad():\n",
        "        output = model.generate(input_ids=input_ids, do_sample=True, top_p=0.95, temperature=temperature, max_length=max_length)\n",
        "    detok_hypo_str = tokenizer.decode(output.flatten(), clean_up_tokenization_spaces=False)\n",
        "    if detok_hypo_str.startswith(BOS):\n",
        "        detok_hypo_str = detok_hypo_str[len(BOS):]\n",
        "    return detok_hypo_str\n",
        "\n",
        "def infill(parts: List[str], max_to_generate: int=128, temperature: float=0.2, extra_sentinel: bool=True, max_retries: int=1):\n",
        "    assert isinstance(parts, list)\n",
        "    retries_attempted = 0\n",
        "    done = False\n",
        "\n",
        "    while (not done) and (retries_attempted < max_retries):\n",
        "        retries_attempted += 1\n",
        "        if VERBOSE:\n",
        "            print(f\"retry {retries_attempted}\")\n",
        "        if len(parts) == 1:\n",
        "            prompt = parts[0]\n",
        "        else:\n",
        "            prompt = \"\"\n",
        "            for sentinel_ix, part in enumerate(parts):\n",
        "                prompt += part\n",
        "                if extra_sentinel or (sentinel_ix < len(parts) - 1):\n",
        "                    prompt += make_sentinel(sentinel_ix)\n",
        "        infills = []\n",
        "        complete = []\n",
        "        done = True\n",
        "        for sentinel_ix, part in enumerate(parts[:-1]):\n",
        "            complete.append(part)\n",
        "            prompt += make_sentinel(sentinel_ix)\n",
        "            completion = generate(prompt, max_to_generate, temperature)\n",
        "            completion = completion[len(prompt):]\n",
        "            if EOM not in completion:\n",
        "                if VERBOSE:\n",
        "                    print(f\"warning: {EOM} not found\")\n",
        "                completion += EOM\n",
        "                done = False\n",
        "            completion = completion[:completion.index(EOM) + len(EOM)]\n",
        "            infilled = completion[:-len(EOM)]\n",
        "            infills.append(infilled)\n",
        "            complete.append(infilled)\n",
        "            prompt += completion\n",
        "        complete.append(parts[-1])\n",
        "        text = ''.join(complete)\n",
        "\n",
        "    if VERBOSE:\n",
        "        print(\"generated text:\")\n",
        "        print(prompt)\n",
        "        print()\n",
        "        print(\"parts:\")\n",
        "        print(parts)\n",
        "        print()\n",
        "        print(\"infills:\")\n",
        "        print(infills)\n",
        "        print()\n",
        "        print(\"restitched text:\")\n",
        "        print(text)\n",
        "        print()\n",
        "    \n",
        "    return {\n",
        "        'text': text, # str, the completed document (with infills inserted)\n",
        "        'parts': parts, # List[str], length N. Same as passed to the method\n",
        "        'infills': infills, # List[str], length N-1. The list of infills generated\n",
        "        'retries_attempted': retries_attempted, # number of retries used (if max_retries > 1)\n",
        "    } \n",
        "\n",
        "def docstring_to_code(example, max_to_generate=128, temperature=0.2):\n",
        "    parts = example.split(\"<insert>\")\n",
        "    result = infill(parts, max_to_generate=max_to_generate, temperature=temperature)\n",
        "    print(\"completed document:\")\n",
        "    return result[\"text\"]"
      ],
      "metadata": {
        "id": "C5bM75mlo3KE"
      },
      "execution_count": null,
      "outputs": []
    },
    {
      "cell_type": "markdown",
      "source": [
        "# Примеры:"
      ],
      "metadata": {
        "id": "t7RmTet7txrV"
      }
    },
    {
      "cell_type": "code",
      "source": [
        "example = '''\\\n",
        "def <insert>\n",
        "    \"\"\" number to power \"\"\"\n",
        "    <insert>\n",
        "<|/ file |>'''\n",
        "print(docstring_to_code(example))"
      ],
      "metadata": {
        "colab": {
          "base_uri": "https://localhost:8080/"
        },
        "id": "hFK1okN7tzgl",
        "outputId": "20b6dfd4-a3c0-4f62-c539-9bba1fe921ed"
      },
      "execution_count": 10,
      "outputs": [
        {
          "output_type": "stream",
          "name": "stdout",
          "text": [
            "completed document:\n",
            "def power(n, p):\n",
            "    \"\"\" number to power \"\"\"\n",
            "    \n",
            "    return n ** p\n",
            "<|/ file |>\n"
          ]
        }
      ]
    },
    {
      "cell_type": "code",
      "source": [
        "example = '''\\\n",
        "def <insert>\n",
        "    \"\"\" decimal logarithm of a number \"\"\"\n",
        "    <insert>\n",
        "<|/ file |>'''\n",
        "print(docstring_to_code(example))"
      ],
      "metadata": {
        "colab": {
          "base_uri": "https://localhost:8080/"
        },
        "id": "-I-usAJ2pZ6D",
        "outputId": "98dfecfa-7a5f-4fa6-bda8-8bfe691381fc"
      },
      "execution_count": 12,
      "outputs": [
        {
          "output_type": "stream",
          "name": "stdout",
          "text": [
            "completed document:\n",
            "def log_decimal(number):\n",
            "    \"\"\" decimal logarithm of a number \"\"\"\n",
            "    number = float(number)\n",
            "    return math.log10(number)\n",
            "<|/ file |>\n"
          ]
        }
      ]
    },
    {
      "cell_type": "markdown",
      "source": [
        "В этом примере стоит отметить, что модель использовала встроенную библиотеку питона, но, к сожалению не импортировала её"
      ],
      "metadata": {
        "id": "2qpYqakguV7i"
      }
    },
    {
      "cell_type": "code",
      "source": [
        "example = '''\\\n",
        "def <insert>\n",
        "    \"\"\" decimal logarithm of a number, use modules and import him \"\"\"\n",
        "    <insert>\n",
        "<|/ file |>'''\n",
        "print(docstring_to_code(example))"
      ],
      "metadata": {
        "colab": {
          "base_uri": "https://localhost:8080/"
        },
        "id": "dP7gRlS8usfa",
        "outputId": "3cea3908-a652-4b4d-9bfd-626b90c61170"
      },
      "execution_count": 17,
      "outputs": [
        {
          "output_type": "stream",
          "name": "stdout",
          "text": [
            "completed document:\n",
            "def log_decimal(number):\n",
            "    \"\"\" decimal logarithm of a number, use modules and import him \"\"\"\n",
            "    number = float(number)\n",
            "    return math.log10(number)\n",
            "<|/ file |>\n"
          ]
        }
      ]
    },
    {
      "cell_type": "markdown",
      "source": [
        "Просьба импортировать модули никак не повлияла на результат, хотя может быть дело в том, что это встроенная библиотека, попробуем использовать другую"
      ],
      "metadata": {
        "id": "RfLJWbc2vquZ"
      }
    },
    {
      "cell_type": "code",
      "source": [
        "example = '''\\\n",
        "def <insert>\n",
        "    \"\"\" decimal logarithm of a number with module numpy \"\"\"\n",
        "    <insert>\n",
        "<|/ file |>'''\n",
        "print(docstring_to_code(example))"
      ],
      "metadata": {
        "colab": {
          "base_uri": "https://localhost:8080/"
        },
        "id": "4GmX_F2kvNxO",
        "outputId": "c847af7b-8432-4668-96b3-94fdac96e632"
      },
      "execution_count": 20,
      "outputs": [
        {
          "output_type": "stream",
          "name": "stdout",
          "text": [
            "completed document:\n",
            "def log_decimal(number):\n",
            "    \"\"\" decimal logarithm of a number with module numpy \"\"\"\n",
            "    import numpy as np\n",
            "    return np.log(number) / np.log(10)\n",
            "<|/ file |>\n"
          ]
        }
      ]
    },
    {
      "cell_type": "markdown",
      "source": [
        "Хоть решение и не вышло оптимальным, стоит отметить, что модель знает о функционале устанавливаемых модулей и импортирует их.\n",
        "\n",
        "Попробуем что-нибудь потяжелее"
      ],
      "metadata": {
        "id": "yCiy3C64wM30"
      }
    },
    {
      "cell_type": "code",
      "source": [
        "example = '''\\\n",
        "def <insert>\n",
        "    \"\"\" binary search algorithm \"\"\"\n",
        "    <insert>\n",
        "<|/ file |>'''\n",
        "print(docstring_to_code(example))"
      ],
      "metadata": {
        "colab": {
          "base_uri": "https://localhost:8080/"
        },
        "id": "5BxOjRG_wMf8",
        "outputId": "d5dd17f6-6628-4f3a-eefa-a50a9242eabf"
      },
      "execution_count": 21,
      "outputs": [
        {
          "output_type": "stream",
          "name": "stdout",
          "text": [
            "completed document:\n",
            "def binary_search(arr, val):\n",
            "    \"\"\" binary search algorithm \"\"\"\n",
            "    left, right = 0, len(arr) - 1\n",
            "    while left <= right:\n",
            "        mid = (left + right) // 2\n",
            "        if arr[mid] == val:\n",
            "            return mid\n",
            "        elif arr[mid] < val:\n",
            "            right = mid\n",
            "        else:\n",
            "            left = mid\n",
            "    return -1\n",
            "<|/ file |>\n"
          ]
        }
      ]
    },
    {
      "cell_type": "markdown",
      "source": [
        "К сожалению в алгоритме ошибка, из-за чего поиск идёт в противоположнуюю сторону от искомого элемента, попробуем дополнить описание тестами"
      ],
      "metadata": {
        "id": "UlboHRw3xRgk"
      }
    },
    {
      "cell_type": "code",
      "source": [
        "example = '''\\\n",
        "def <insert>\n",
        "    \"\"\" binary search algorithm \"\"\"\n",
        "    <insert>\n",
        "\n",
        "assert binary_search([1,2,3,4,5,6], 2) == 1\n",
        "assert binary_search([1,2,3,4,5,6], 5) == 4\n",
        "assert binary_search([1,2,3,4,5,6], 7) == -1\n",
        "<|/ file |>'''\n",
        "print(docstring_to_code(example))"
      ],
      "metadata": {
        "colab": {
          "base_uri": "https://localhost:8080/"
        },
        "id": "USY1gBh9x3YU",
        "outputId": "c3162412-e280-482b-a608-8930d7409978"
      },
      "execution_count": 22,
      "outputs": [
        {
          "output_type": "stream",
          "name": "stdout",
          "text": [
            "completed document:\n",
            "def binary_search(arr, val):\n",
            "    \"\"\" binary search algorithm \"\"\"\n",
            "    low = 0\n",
            "    high = len(arr) - 1\n",
            "    while low <= high:\n",
            "        mid = (low + high) // 2\n",
            "        if arr[mid] == val:\n",
            "            return mid\n",
            "        elif arr[mid] > val:\n",
            "            high = mid - 1\n",
            "        else:\n",
            "            low = mid + 1\n",
            "\n",
            "assert binary_search([1,2,3,4,5,6], 2) == 1\n",
            "assert binary_search([1,2,3,4,5,6], 5) == 4\n",
            "assert binary_search([1,2,3,4,5,6], 7) == -1\n",
            "<|/ file |>\n"
          ]
        }
      ]
    },
    {
      "cell_type": "markdown",
      "source": [
        "Наличее тестов явно помогло модели справиться с поставленной задачей лучше."
      ],
      "metadata": {
        "id": "OFsIjZQeyZN5"
      }
    },
    {
      "cell_type": "code",
      "source": [
        "example = '''\\\n",
        "def <insert>\n",
        "    \"\"\" convert first characters of words to upper case \"\"\"\n",
        "    <insert>\n",
        "<|/ file |>'''\n",
        "print(docstring_to_code(example))"
      ],
      "metadata": {
        "colab": {
          "base_uri": "https://localhost:8080/"
        },
        "id": "8TjQwTAuzTTZ",
        "outputId": "617ea106-a6b5-49e7-e40a-9e29ee35e033"
      },
      "execution_count": 25,
      "outputs": [
        {
          "output_type": "stream",
          "name": "stdout",
          "text": [
            "completed document:\n",
            "def convert_first_char_to_upper(word):\n",
            "    \"\"\" convert first characters of words to upper case \"\"\"\n",
            "    word = word.lower()\n",
            "    return word[0]\n",
            "<|/ file |>\n"
          ]
        }
      ]
    },
    {
      "cell_type": "markdown",
      "source": [
        "Упс, что-то пошло не так, попробуем исправить это, для начала не будем использовать тесты, так как уже убедились что они отлично помогают"
      ],
      "metadata": {
        "id": "RLA51FLu4G8N"
      }
    },
    {
      "cell_type": "code",
      "source": [
        "example = '''\\\n",
        "def first_second_TO_First_Second(text)\n",
        "    \"\"\" convert the first characters of words in a sentence to uppercase \"\"\"\n",
        "    <insert>\n",
        "<|/ file |>'''\n",
        "print(docstring_to_code(example))"
      ],
      "metadata": {
        "colab": {
          "base_uri": "https://localhost:8080/"
        },
        "id": "2jpgkXpE5r9H",
        "outputId": "ac232873-38da-4bf7-fb5f-9b79e427bf8a"
      },
      "execution_count": 27,
      "outputs": [
        {
          "output_type": "stream",
          "name": "stdout",
          "text": [
            "completed document:\n",
            "def first_second_TO_First_Second(text)\n",
            "    \"\"\" convert the first characters of words in a sentence to uppercase \"\"\"\n",
            "    words = text.split()\n",
            "    words[0] = words[0].upper()\n",
            "    return \" \".join(words)\n",
            "<|/ file |>\n"
          ]
        }
      ]
    },
    {
      "cell_type": "markdown",
      "source": [
        "Интересный результат, указав пример в названии функции, модель лучше меня поняла, но результат всё равно немного не тот"
      ],
      "metadata": {
        "id": "2dUVs6DY6cSK"
      }
    },
    {
      "cell_type": "code",
      "source": [
        "example = '''\\\n",
        "def <insert>\n",
        "    \"\"\" convert the first characters of words in a sentence to uppercase, the rest of the characters to lowercase \"\"\"\n",
        "    <insert>\n",
        "<|/ file |>'''\n",
        "print(docstring_to_code(example))"
      ],
      "metadata": {
        "colab": {
          "base_uri": "https://localhost:8080/"
        },
        "id": "-AEy5SKJ7B5o",
        "outputId": "29deee68-8316-4740-f3e2-5d4acfad6302"
      },
      "execution_count": 30,
      "outputs": [
        {
          "output_type": "stream",
          "name": "stdout",
          "text": [
            "completed document:\n",
            "def convert_first_letters_to_upper(sentence):\n",
            "    \"\"\" convert the first characters of words in a sentence to uppercase, the rest of the characters to lowercase \"\"\"\n",
            "    sentence = sentence.split()\n",
            "    sentence[0] = sentence[0].upper()\n",
            "    return \" \".join(sentence)\n",
            "<|/ file |>\n"
          ]
        }
      ]
    },
    {
      "cell_type": "markdown",
      "source": [
        "Более подробное описание задачи приводит к похожему результату, но он всё равно остаётся неверным"
      ],
      "metadata": {
        "id": "cMTRcH7773l-"
      }
    },
    {
      "cell_type": "code",
      "source": [
        "example = '''\\\n",
        "def <insert>\n",
        "    \"\"\" convert the first characters of words in a sentence to uppercase, the rest of the characters to lowercase\n",
        "    \n",
        "    >>> print(title(\"aaa bbb ccc\"))\n",
        "    Aaa Bbb Ccc\n",
        "     \"\"\"\n",
        "    <insert>\n",
        "<|/ file |>'''\n",
        "print(docstring_to_code(example))"
      ],
      "metadata": {
        "colab": {
          "base_uri": "https://localhost:8080/"
        },
        "id": "DBThtqBu8gqK",
        "outputId": "8ca60a41-ca74-4e0e-cb2e-455d46e66cb8"
      },
      "execution_count": 31,
      "outputs": [
        {
          "output_type": "stream",
          "name": "stdout",
          "text": [
            "completed document:\n",
            "def title(s):\n",
            "    \"\"\" convert first characters of words in a sentence to uppercase, the rest of the characters to lowercase\n",
            "    \n",
            "    >>> print(title(\"aaa bbb ccc\"))\n",
            "    Aaa Bbb Ccc\n",
            "     \"\"\"\n",
            "    return s[0].upper() + s[1:]\n",
            "\n",
            "def title2(s):\n",
            "    \"\"\" convert the first characters of words in a sentence to uppercase, the rest of the characters to lowercase\n",
            "    \n",
            "    >>> print(title(\"aaa bbb ccc\"))\n",
            "    Aaa Bbb Ccc\n",
            "     \"\"\"\n",
            "    words = [word.lower() for word in s.split()]\n",
            "    return \" \".join(words)\n",
            "<|/ file |>\n"
          ]
        }
      ]
    },
    {
      "cell_type": "markdown",
      "source": [
        "Подсказав ей немного подругому, она выдала несколько вариантов, но опять каждый из них нерабочий, проверим, помогут ли тесты в этот раз"
      ],
      "metadata": {
        "id": "y3xm0T959UCm"
      }
    },
    {
      "cell_type": "code",
      "source": [
        "example = '''\\\n",
        "def <insert>\n",
        "    \"\"\" convert the first characters of words in a sentence to uppercase, the rest of the characters to lowercase \"\"\"\n",
        "    <insert>\n",
        "\n",
        "\n",
        "assert f(\"aaa bbb ccc\") == \"Aaa Bbb Ccc\"\n",
        "assert f(\"aaa\") == \"Aaa\"\n",
        "assert f(\"aAAbB\") == \"Aaabb\"\n",
        "<|/ file |>'''\n",
        "print(docstring_to_code(example))"
      ],
      "metadata": {
        "colab": {
          "base_uri": "https://localhost:8080/"
        },
        "id": "MkPMSaiz9fZ5",
        "outputId": "7bdb9460-fed1-4be0-bde9-6958e2b88d77"
      },
      "execution_count": 32,
      "outputs": [
        {
          "output_type": "stream",
          "name": "stdout",
          "text": [
            "completed document:\n",
            "def f(words):\n",
            "    \"\"\" convert the first characters of words in a sentence to uppercase, the rest of the characters to lowercase \"\"\"\n",
            "    words = words.split()\n",
            "    return \"\".join([word.upper() for word in words])\n",
            "\n",
            "\n",
            "assert f(\"aaa bbb ccc\") == \"Aaa Bbb Ccc\"\n",
            "assert f(\"aaa\") == \"Aaa\"\n",
            "assert f(\"aAAbB\") == \"Aaabb\"\n",
            "<|/ file |>\n"
          ]
        }
      ]
    },
    {
      "cell_type": "markdown",
      "source": [
        "Нет, тесты в этот раз не помогли, кажется что модель не знает понятия \"слово\", потому что в каждом из примеров она пытается работать с входными данными как с \"единными\" "
      ],
      "metadata": {
        "id": "8YWIZ2zD98v0"
      }
    },
    {
      "cell_type": "markdown",
      "source": [
        "Попробуем что-нибудь ещё с использованием сторонних библиотек"
      ],
      "metadata": {
        "id": "fFJmHBWb-Pm_"
      }
    },
    {
      "cell_type": "code",
      "source": [
        "example = '''\\\n",
        "def <insert>\n",
        "    \"\"\" geocoding addresses to coordinates \"\"\"\n",
        "    <insert>\n",
        "<|/ file |>'''\n",
        "print(docstring_to_code(example))"
      ],
      "metadata": {
        "colab": {
          "base_uri": "https://localhost:8080/"
        },
        "id": "bXFzMgWP-UIH",
        "outputId": "08e82e77-8e89-41fe-ed69-33b879172758"
      },
      "execution_count": 36,
      "outputs": [
        {
          "output_type": "stream",
          "name": "stdout",
          "text": [
            "completed document:\n",
            "def geocode(address):\n",
            "    \"\"\" geocoding addresses to coordinates \"\"\"\n",
            "    geocoder = pygeocoder.Geocoder()\n",
            "    location = geocoder.geocode(address)\n",
            "    return location\n",
            "<|/ file |>\n"
          ]
        }
      ]
    },
    {
      "cell_type": "code",
      "source": [
        "example = '''\\\n",
        "def <insert>\n",
        "    \"\"\" geocoding coordinates to addresses \"\"\"\n",
        "    <insert>\n",
        "<|/ file |>'''\n",
        "print(docstring_to_code(example))"
      ],
      "metadata": {
        "colab": {
          "base_uri": "https://localhost:8080/"
        },
        "id": "xlWGq8fs-6Pd",
        "outputId": "8aac872c-eeac-4c07-bc21-d249a62ee64b"
      },
      "execution_count": 37,
      "outputs": [
        {
          "output_type": "stream",
          "name": "stdout",
          "text": [
            "completed document:\n",
            "def geocode_to_addresses(lat, lon):\n",
            "    \"\"\" geocoding coordinates to addresses \"\"\"\n",
            "    addresses = []\n",
            "    geocoder = pygeocoder.Geocoder()\n",
            "    addresses.extend(geocoder.geocode((lat, lon)))\n",
            "    return addresses\n",
            "<|/ file |>\n"
          ]
        }
      ]
    },
    {
      "cell_type": "markdown",
      "source": [
        "Выглядит правдоподобно, но меня смущает выбор библиотеки, есть более популярные варианты"
      ],
      "metadata": {
        "id": "cLK55TWO_tQZ"
      }
    },
    {
      "cell_type": "code",
      "source": [
        "example = '''\\\n",
        "def <insert>\n",
        "    \"\"\" geocoding addresses to coordinates with \"GeoPy\" library \"\"\"\n",
        "    <insert>\n",
        "<|/ file |>'''\n",
        "print(docstring_to_code(example))"
      ],
      "metadata": {
        "colab": {
          "base_uri": "https://localhost:8080/"
        },
        "id": "7pn-8MxDABAr",
        "outputId": "a939b6c8-c81c-485c-cb28-835da0a4eac0"
      },
      "execution_count": 45,
      "outputs": [
        {
          "output_type": "stream",
          "name": "stdout",
          "text": [
            "completed document:\n",
            "def geocode(address):\n",
            "    \"\"\" geocoding addresses to coordinates with \"GeoPy\" library \"\"\"\n",
            "    g = geocoder.google(address)\n",
            "    return g.latlng\n",
            "<|/ file |>\n"
          ]
        }
      ]
    },
    {
      "cell_type": "markdown",
      "source": [
        "Код рабочий, но была выбрана другая библиотека, но не так, которая требовалась, кажется что \"GeoPy\" не учитывался при обучении модели."
      ],
      "metadata": {
        "id": "V6hSaw93CggM"
      }
    },
    {
      "cell_type": "markdown",
      "source": [
        "Попробуем задать то, что не решает за несколько строк"
      ],
      "metadata": {
        "id": "joLxiVmKDZyK"
      }
    },
    {
      "cell_type": "code",
      "source": [
        "example = '''\\\n",
        "def <insert>\n",
        "    \"\"\" parsing the 100 most popular hotels in Rome on TripAdvisor \"\"\"\n",
        "    <insert>\n",
        "<|/ file |>'''\n",
        "print(docstring_to_code(example))"
      ],
      "metadata": {
        "colab": {
          "base_uri": "https://localhost:8080/"
        },
        "id": "ngr6SBaXC_8o",
        "outputId": "7e8b8db9-8b41-474a-db30-779d49a3c0da"
      },
      "execution_count": 47,
      "outputs": [
        {
          "output_type": "stream",
          "name": "stdout",
          "text": [
            "completed document:\n",
            "def parse():\n",
            "    \"\"\" parsing the 100 most popular hotels in Rome on TripAdvisor \"\"\"\n",
            "    \n",
            "    hotels = load_hotels()\n",
            "    \n",
            "    hotels.sort(key=lambda x: x['popularity'], reverse=True)\n",
            "    \n",
            "    return hotels[:100]\n",
            "<|/ file |>\n"
          ]
        }
      ]
    },
    {
      "cell_type": "markdown",
      "source": [
        "Выглядит интересно, но это конечно же не то что мы ожидали"
      ],
      "metadata": {
        "id": "OFEkXXC9DUI-"
      }
    },
    {
      "cell_type": "markdown",
      "source": [
        "# Итоги"
      ],
      "metadata": {
        "id": "vkXCsEvlDjDE"
      }
    },
    {
      "cell_type": "markdown",
      "source": [
        "На простых запросах InCoder не исптывает проблем. В более сложных задачах результаты выглядят реалистично, но не всегда оказываются рабочими, подсказки в виде наличия тестов или названия функции помогают выдавать результат лучше, но опять же не всегда рабочий."
      ],
      "metadata": {
        "id": "fL-UvnNkDk9r"
      }
    }
  ]
}