{
  "nbformat": 4,
  "nbformat_minor": 0,
  "metadata": {
    "colab": {
      "provenance": []
    },
    "kernelspec": {
      "name": "python3",
      "display_name": "Python 3"
    },
    "language_info": {
      "name": "python"
    }
  },
  "cells": [
    {
      "cell_type": "code",
      "execution_count": 7,
      "metadata": {
        "colab": {
          "base_uri": "https://localhost:8080/"
        },
        "id": "OI9z1pOOSxrD",
        "outputId": "416b3f85-b2dd-4518-bee0-5ca8a8f1cea2"
      },
      "outputs": [
        {
          "output_type": "stream",
          "name": "stdout",
          "text": [
            "Cloning into 'code2vec'...\n",
            "remote: Enumerating objects: 701, done.\u001b[K\n",
            "remote: Counting objects: 100% (11/11), done.\u001b[K\n",
            "remote: Compressing objects: 100% (8/8), done.\u001b[K\n",
            "remote: Total 701 (delta 4), reused 10 (delta 3), pack-reused 690\u001b[K\n",
            "Receiving objects: 100% (701/701), 5.14 MiB | 34.62 MiB/s, done.\n",
            "Resolving deltas: 100% (412/412), done.\n"
          ]
        }
      ],
      "source": [
        "!git clone https://github.com/BootyOne/code2vec.git -b JavaExtractor"
      ]
    },
    {
      "cell_type": "code",
      "source": [
        "!!wget https://s3.amazonaws.com/code2vec/model/java14m_model.tar.gz"
      ],
      "metadata": {
        "id": "Rnzp1tSNS6wb"
      },
      "execution_count": null,
      "outputs": []
    },
    {
      "cell_type": "code",
      "source": [
        "!tar -xvzf java14m_model.tar.gz"
      ],
      "metadata": {
        "colab": {
          "base_uri": "https://localhost:8080/"
        },
        "id": "nj7pgFfWTErl",
        "outputId": "d25d9e48-326c-430d-c17d-99d2289ecf90"
      },
      "execution_count": 3,
      "outputs": [
        {
          "output_type": "stream",
          "name": "stdout",
          "text": [
            "models/java14_model/saved_model_iter8.release.data-00000-of-00001\n",
            "models/java14_model/saved_model_iter8.release.index\n",
            "models/java14_model/saved_model_iter8.release.meta\n",
            "models/java14_model/dictionaries.bin\n"
          ]
        }
      ]
    },
    {
      "cell_type": "code",
      "source": [
        "!python3 ./code2vec/code2vec.py --load models/java14_model/saved_model_iter8.release --predict"
      ],
      "metadata": {
        "colab": {
          "base_uri": "https://localhost:8080/"
        },
        "id": "F564dL3wTNxp",
        "outputId": "102f7a90-b7ed-4dc6-b1dd-48d831476b9c"
      },
      "execution_count": 8,
      "outputs": [
        {
          "output_type": "stream",
          "name": "stdout",
          "text": [
            "2023-01-09 16:25:10.174942: E tensorflow/stream_executor/cuda/cuda_driver.cc:271] failed call to cuInit: CUDA_ERROR_NO_DEVICE: no CUDA-capable device is detected\n",
            "2023-01-09 16:25:10,181 INFO     \n",
            "2023-01-09 16:25:10,181 INFO     \n",
            "2023-01-09 16:25:10,181 INFO     ---------------------------------------------------------------------\n",
            "2023-01-09 16:25:10,181 INFO     ---------------------------------------------------------------------\n",
            "2023-01-09 16:25:10,181 INFO     ---------------------- Creating code2vec model ----------------------\n",
            "2023-01-09 16:25:10,181 INFO     ---------------------------------------------------------------------\n",
            "2023-01-09 16:25:10,181 INFO     ---------------------------------------------------------------------\n",
            "2023-01-09 16:25:10,181 INFO     Checking number of examples ...\n",
            "2023-01-09 16:25:10,181 INFO     ---------------------------------------------------------------------\n",
            "2023-01-09 16:25:10,181 INFO     ----------------- Configuration - Hyper Parameters ------------------\n",
            "2023-01-09 16:25:10,181 INFO     CODE_VECTOR_SIZE                          384\n",
            "2023-01-09 16:25:10,182 INFO     CSV_BUFFER_SIZE                           104857600\n",
            "2023-01-09 16:25:10,182 INFO     DEFAULT_EMBEDDINGS_SIZE                   128\n",
            "2023-01-09 16:25:10,182 INFO     DL_FRAMEWORK                              tensorflow\n",
            "2023-01-09 16:25:10,182 INFO     DROPOUT_KEEP_RATE                         0.75\n",
            "2023-01-09 16:25:10,182 INFO     EXPORT_CODE_VECTORS                       False\n",
            "2023-01-09 16:25:10,182 INFO     LOGS_PATH                                 None\n",
            "2023-01-09 16:25:10,182 INFO     MAX_CONTEXTS                              200\n",
            "2023-01-09 16:25:10,182 INFO     MAX_PATH_VOCAB_SIZE                       911417\n",
            "2023-01-09 16:25:10,182 INFO     MAX_TARGET_VOCAB_SIZE                     261245\n",
            "2023-01-09 16:25:10,182 INFO     MAX_TOKEN_VOCAB_SIZE                      1301136\n",
            "2023-01-09 16:25:10,182 INFO     MAX_TO_KEEP                               10\n",
            "2023-01-09 16:25:10,182 INFO     MODEL_LOAD_PATH                           models/java14_model/saved_model_iter8.release\n",
            "2023-01-09 16:25:10,182 INFO     MODEL_SAVE_PATH                           None\n",
            "2023-01-09 16:25:10,182 INFO     NUM_BATCHES_TO_LOG_PROGRESS               100\n",
            "2023-01-09 16:25:10,182 INFO     NUM_TEST_EXAMPLES                         0\n",
            "2023-01-09 16:25:10,182 INFO     NUM_TRAIN_BATCHES_TO_EVALUATE             1800\n",
            "2023-01-09 16:25:10,182 INFO     NUM_TRAIN_EPOCHS                          20\n",
            "2023-01-09 16:25:10,182 INFO     NUM_TRAIN_EXAMPLES                        0\n",
            "2023-01-09 16:25:10,182 INFO     PATH_EMBEDDINGS_SIZE                      128\n",
            "2023-01-09 16:25:10,182 INFO     PREDICT                                   True\n",
            "2023-01-09 16:25:10,182 INFO     READER_NUM_PARALLEL_BATCHES               6\n",
            "2023-01-09 16:25:10,182 INFO     RELEASE                                   False\n",
            "2023-01-09 16:25:10,182 INFO     SAVE_EVERY_EPOCHS                         1\n",
            "2023-01-09 16:25:10,183 INFO     SAVE_T2V                                  None\n",
            "2023-01-09 16:25:10,183 INFO     SAVE_W2V                                  None\n",
            "2023-01-09 16:25:10,183 INFO     SEPARATE_OOV_AND_PAD                      False\n",
            "2023-01-09 16:25:10,183 INFO     SHUFFLE_BUFFER_SIZE                       10000\n",
            "2023-01-09 16:25:10,183 INFO     TARGET_EMBEDDINGS_SIZE                    384\n",
            "2023-01-09 16:25:10,183 INFO     TEST_BATCH_SIZE                           1024\n",
            "2023-01-09 16:25:10,183 INFO     TEST_DATA_PATH                            \n",
            "2023-01-09 16:25:10,183 INFO     TOKEN_EMBEDDINGS_SIZE                     128\n",
            "2023-01-09 16:25:10,183 INFO     TOP_K_WORDS_CONSIDERED_DURING_PREDICTION  10\n",
            "2023-01-09 16:25:10,183 INFO     TRAIN_BATCH_SIZE                          1024\n",
            "2023-01-09 16:25:10,183 INFO     TRAIN_DATA_PATH_PREFIX                    None\n",
            "2023-01-09 16:25:10,183 INFO     USE_TENSORBOARD                           False\n",
            "2023-01-09 16:25:10,183 INFO     VERBOSE_MODE                              1\n",
            "2023-01-09 16:25:10,183 INFO     _Config__logger                           <Logger code2vec (INFO)>\n",
            "2023-01-09 16:25:10,183 INFO     context_vector_size                       384\n",
            "2023-01-09 16:25:10,183 INFO     entire_model_load_path                    models/java14_model/saved_model_iter8.release__entire-model\n",
            "2023-01-09 16:25:10,183 INFO     entire_model_save_path                    None\n",
            "2023-01-09 16:25:10,183 INFO     is_loading                                True\n",
            "2023-01-09 16:25:10,183 INFO     is_saving                                 False\n",
            "2023-01-09 16:25:10,183 INFO     is_testing                                False\n",
            "2023-01-09 16:25:10,183 INFO     is_training                               False\n",
            "2023-01-09 16:25:10,184 INFO     model_load_dir                            models/java14_model\n",
            "2023-01-09 16:25:10,184 INFO     model_weights_load_path                   models/java14_model/saved_model_iter8.release__only-weights\n",
            "2023-01-09 16:25:10,184 INFO     model_weights_save_path                   None\n",
            "2023-01-09 16:25:10,184 INFO     test_steps                                0\n",
            "2023-01-09 16:25:10,184 INFO     train_data_path                           None\n",
            "2023-01-09 16:25:10,184 INFO     train_steps_per_epoch                     0\n",
            "2023-01-09 16:25:10,184 INFO     word_freq_dict_path                       None\n",
            "2023-01-09 16:25:10,184 INFO     ---------------------------------------------------------------------\n",
            "2023-01-09 16:25:10,184 INFO     Loading model vocabularies from: `models/java14_model/dictionaries.bin` ... \n",
            "2023-01-09 16:25:12,671 INFO     Done loading model vocabularies.\n",
            "2023-01-09 16:25:13,143 INFO     Done creating code2vec model\n",
            "2023-01-09 16:25:29.792087: W tensorflow/core/framework/cpu_allocator_impl.cc:82] Allocation of 666036736 exceeds 10% of free system memory.\n",
            "2023-01-09 16:25:31,724 INFO     Initalized variables\n",
            "2023-01-09 16:25:31,733 INFO     Loading model weights from: models/java14_model/saved_model_iter8.release\n",
            "2023-01-09 16:25:32.298043: W tensorflow/core/framework/cpu_allocator_impl.cc:82] Allocation of 666036736 exceeds 10% of free system memory.\n",
            "2023-01-09 16:25:33,909 INFO     Done loading model weights\n",
            "Starting interactive prediction...\n",
            "Original name:\ttraverse|pre|order\n",
            "\t(0.362668) predicted: ['visit']\n",
            "\t(0.205817) predicted: ['traverse']\n",
            "\t(0.204229) predicted: ['right']\n",
            "\t(0.061100) predicted: ['super', 'visit']\n",
            "\t(0.042788) predicted: ['super', 'end', 'visit']\n",
            "\t(0.033353) predicted: ['set', 'right']\n",
            "\t(0.028997) predicted: ['do', 'visit']\n",
            "\t(0.022245) predicted: ['visit', 'element']\n",
            "\t(0.021331) predicted: ['accept']\n",
            "\t(0.017472) predicted: ['check']\n",
            "Attention:\n",
            "0.086660\tcontext: value,(NameExpr2)^(FieldAccessExpr1)^(MethodCallExpr)_(NameExpr2),visit\n",
            "0.072990\tcontext: node,(ClassOrInterfaceType1)^(Parameter)^(MethodDeclaration)_(BlockStmt)_(IfStmt)_(BlockStmt)_(ExpressionStmt)_(MethodCallExpr0)_(NameExpr2),visit\n",
            "0.071651\tcontext: visit,(NameExpr2)^(MethodCallExpr)^(ExpressionStmt)^(BlockStmt)_(ExpressionStmt)_(MethodCallExpr0)_(FieldAccessExpr1)_(NameExpr2),right\n",
            "0.063590\tcontext: visit,(NameExpr2)^(MethodCallExpr)^(ExpressionStmt)^(BlockStmt)_(ExpressionStmt)_(MethodCallExpr0)_(FieldAccessExpr1)_(NameExpr2),left\n",
            "0.049635\tcontext: right,(NameExpr2)^(FieldAccessExpr1)^(MethodCallExpr)_(NameExpr2),traversepreorder\n",
            "0.043322\tcontext: left,(NameExpr2)^(FieldAccessExpr1)^(MethodCallExpr)_(NameExpr2),traversepreorder\n",
            "0.043218\tcontext: node,(NameExpr0)^(BinaryExpr:notEquals)^(IfStmt)_(BlockStmt)_(ExpressionStmt)_(MethodCallExpr0)_(NameExpr2),visit\n",
            "0.033978\tcontext: METHOD_NAME,(NameExpr1)^(MethodDeclaration)_(BlockStmt)_(IfStmt)_(BlockStmt)_(ExpressionStmt)_(MethodCallExpr0)_(FieldAccessExpr1)_(NameExpr2),left\n",
            "0.030749\tcontext: node,(VariableDeclaratorId0)^(Parameter)^(MethodDeclaration)_(BlockStmt)_(IfStmt)_(BlockStmt)_(ExpressionStmt)_(MethodCallExpr0)_(NameExpr2),visit\n",
            "0.029959\tcontext: left,(NameExpr2)^(FieldAccessExpr1)^(MethodCallExpr)^(ExpressionStmt)^(BlockStmt)_(ExpressionStmt)_(MethodCallExpr0)_(NameExpr2),traversepreorder\n",
            "Original name:\ttraverse|in|order\n",
            "\t(0.677872) predicted: ['visit']\n",
            "\t(0.058265) predicted: ['traverse']\n",
            "\t(0.057336) predicted: ['super', 'visit']\n",
            "\t(0.045873) predicted: ['right']\n",
            "\t(0.036914) predicted: ['init']\n",
            "\t(0.034786) predicted: ['accept']\n",
            "\t(0.030005) predicted: ['do', 'visit']\n",
            "\t(0.027288) predicted: ['super', 'end', 'visit']\n",
            "\t(0.023525) predicted: ['visit', 'element']\n",
            "\t(0.008135) predicted: ['check']\n",
            "Attention:\n",
            "0.130677\tcontext: left,(NameExpr2)^(FieldAccessExpr1)^(MethodCallExpr)^(ExpressionStmt)^(BlockStmt)_(ExpressionStmt)_(MethodCallExpr0)_(NameExpr2),visit\n",
            "0.082529\tcontext: value,(NameExpr2)^(FieldAccessExpr1)^(MethodCallExpr)_(NameExpr2),visit\n",
            "0.069511\tcontext: node,(ClassOrInterfaceType1)^(Parameter)^(MethodDeclaration)_(BlockStmt)_(IfStmt)_(BlockStmt)_(ExpressionStmt)_(MethodCallExpr0)_(NameExpr2),visit\n",
            "0.068236\tcontext: visit,(NameExpr2)^(MethodCallExpr)^(ExpressionStmt)^(BlockStmt)_(ExpressionStmt)_(MethodCallExpr0)_(FieldAccessExpr1)_(NameExpr2),right\n",
            "0.047269\tcontext: right,(NameExpr2)^(FieldAccessExpr1)^(MethodCallExpr)_(NameExpr2),traverseinorder\n",
            "0.041257\tcontext: left,(NameExpr2)^(FieldAccessExpr1)^(MethodCallExpr)_(NameExpr2),traverseinorder\n",
            "0.041157\tcontext: node,(NameExpr0)^(BinaryExpr:notEquals)^(IfStmt)_(BlockStmt)_(ExpressionStmt)_(MethodCallExpr0)_(NameExpr2),visit\n",
            "0.032358\tcontext: METHOD_NAME,(NameExpr1)^(MethodDeclaration)_(BlockStmt)_(IfStmt)_(BlockStmt)_(ExpressionStmt)_(MethodCallExpr0)_(FieldAccessExpr1)_(NameExpr2),left\n",
            "0.029283\tcontext: node,(VariableDeclaratorId0)^(Parameter)^(MethodDeclaration)_(BlockStmt)_(IfStmt)_(BlockStmt)_(ExpressionStmt)_(MethodCallExpr0)_(NameExpr2),visit\n",
            "0.028531\tcontext: left,(NameExpr2)^(FieldAccessExpr1)^(MethodCallExpr)^(ExpressionStmt)^(BlockStmt)_(ExpressionStmt)_(MethodCallExpr0)_(NameExpr2),traverseinorder\n",
            "Original name:\ttraverse|post|order\n",
            "\t(0.782322) predicted: ['visit']\n",
            "\t(0.072645) predicted: ['init']\n",
            "\t(0.053528) predicted: ['accept']\n",
            "\t(0.026502) predicted: ['traverse']\n",
            "\t(0.022774) predicted: ['super', 'visit']\n",
            "\t(0.016561) predicted: ['do', 'visit']\n",
            "\t(0.008656) predicted: ['visit', 'element']\n",
            "\t(0.008314) predicted: ['super', 'end', 'visit']\n",
            "\t(0.004360) predicted: ['compile']\n",
            "\t(0.004339) predicted: ['visit', 'children']\n",
            "Attention:\n",
            "0.161113\tcontext: right,(NameExpr2)^(FieldAccessExpr1)^(MethodCallExpr)^(ExpressionStmt)^(BlockStmt)_(ExpressionStmt)_(MethodCallExpr0)_(NameExpr2),visit\n",
            "0.120313\tcontext: left,(NameExpr2)^(FieldAccessExpr1)^(MethodCallExpr)^(ExpressionStmt)^(BlockStmt)_(ExpressionStmt)_(MethodCallExpr0)_(NameExpr2),visit\n",
            "0.075983\tcontext: value,(NameExpr2)^(FieldAccessExpr1)^(MethodCallExpr)_(NameExpr2),visit\n",
            "0.063998\tcontext: node,(ClassOrInterfaceType1)^(Parameter)^(MethodDeclaration)_(BlockStmt)_(IfStmt)_(BlockStmt)_(ExpressionStmt)_(MethodCallExpr0)_(NameExpr2),visit\n",
            "0.043520\tcontext: right,(NameExpr2)^(FieldAccessExpr1)^(MethodCallExpr)_(NameExpr2),traversepostorder\n",
            "0.037985\tcontext: left,(NameExpr2)^(FieldAccessExpr1)^(MethodCallExpr)_(NameExpr2),traversepostorder\n",
            "0.037893\tcontext: node,(NameExpr0)^(BinaryExpr:notEquals)^(IfStmt)_(BlockStmt)_(ExpressionStmt)_(MethodCallExpr0)_(NameExpr2),visit\n",
            "0.029792\tcontext: METHOD_NAME,(NameExpr1)^(MethodDeclaration)_(BlockStmt)_(IfStmt)_(BlockStmt)_(ExpressionStmt)_(MethodCallExpr0)_(FieldAccessExpr1)_(NameExpr2),left\n",
            "0.026961\tcontext: node,(VariableDeclaratorId0)^(Parameter)^(MethodDeclaration)_(BlockStmt)_(IfStmt)_(BlockStmt)_(ExpressionStmt)_(MethodCallExpr0)_(NameExpr2),visit\n",
            "0.026268\tcontext: left,(NameExpr2)^(FieldAccessExpr1)^(MethodCallExpr)^(ExpressionStmt)^(BlockStmt)_(ExpressionStmt)_(MethodCallExpr0)_(NameExpr2),traversepostorder\n"
          ]
        }
      ]
    },
    {
      "cell_type": "markdown",
      "source": [
        "Первый фрагмент кода:"
      ],
      "metadata": {
        "id": "tC4iXoqTW4UH"
      }
    },
    {
      "cell_type": "code",
      "source": [
        "!cat code2vec/Input.java"
      ],
      "metadata": {
        "colab": {
          "base_uri": "https://localhost:8080/"
        },
        "id": "vrI2TqDdW-EG",
        "outputId": "8b051dae-8c1c-44a6-8f09-5f35240d6ee3"
      },
      "execution_count": 9,
      "outputs": [
        {
          "output_type": "stream",
          "name": "stdout",
          "text": [
            "public void traversePreOrder(Node node) {\r\n",
            "    if (node != null) {\r\n",
            "        visit(node.value);\r\n",
            "        traversePreOrder(node.left);\r\n",
            "        traversePreOrder(node.right);\r\n",
            "    }\r\n",
            "}"
          ]
        }
      ]
    },
    {
      "cell_type": "markdown",
      "source": [
        "Результирующий вектор - [0.086660, 0.072990, 0.071651, 0.063590, 0.049635, 0.043322, 0.043218, 0.033978, 0.030749, 0.029959]"
      ],
      "metadata": {
        "id": "stmpyal8XTpo"
      }
    },
    {
      "cell_type": "markdown",
      "source": [
        "Второй фрагмент кода:"
      ],
      "metadata": {
        "id": "Z1-ZCs8KXEls"
      }
    },
    {
      "cell_type": "code",
      "source": [
        "!cat code2vec/Input2.java"
      ],
      "metadata": {
        "colab": {
          "base_uri": "https://localhost:8080/"
        },
        "id": "n4iLYOj2XHDu",
        "outputId": "5d82c7a4-247f-407a-b97e-44751b234635"
      },
      "execution_count": 10,
      "outputs": [
        {
          "output_type": "stream",
          "name": "stdout",
          "text": [
            "public void traverseInOrder(Node node) {\n",
            "    if (node != null) {\n",
            "        traverseInOrder(node.left);\n",
            "        visit(node.value);\n",
            "        traverseInOrder(node.right);\n",
            "    }\n",
            "}"
          ]
        }
      ]
    },
    {
      "cell_type": "markdown",
      "source": [
        "Результирующий вектор - [0.130677, 0.082529, 0.069511, 0.068236, 0.047269, 0.041257, 0.041157, 0.032358, 0.029283, 0.028531]"
      ],
      "metadata": {
        "id": "opLkSeWOYIME"
      }
    },
    {
      "cell_type": "markdown",
      "source": [
        "Третий фрагмент кода:"
      ],
      "metadata": {
        "id": "UAlthSLKXI34"
      }
    },
    {
      "cell_type": "code",
      "source": [
        "!cat code2vec/Input3.java"
      ],
      "metadata": {
        "colab": {
          "base_uri": "https://localhost:8080/"
        },
        "id": "B-Puun8VXLE8",
        "outputId": "768de395-5c9b-4bfc-adde-598bb874f147"
      },
      "execution_count": 11,
      "outputs": [
        {
          "output_type": "stream",
          "name": "stdout",
          "text": [
            "public void traversePostOrder(Node node) {\n",
            "    if (node != null) {\n",
            "        traversePostOrder(node.left);\n",
            "        traversePostOrder(node.right);\n",
            "        visit(node.value);\n",
            "    }\n",
            "}"
          ]
        }
      ]
    },
    {
      "cell_type": "markdown",
      "source": [
        "Результирующий вектор - [0.161113, 0.120313, 0.075983, 0.063998, 0.043520, 0.037985, 0.037893, 0.029792, 0.026961, 0.026268]"
      ],
      "metadata": {
        "id": "ICWOlkwJYUpj"
      }
    },
    {
      "cell_type": "code",
      "source": [
        "import torch\n",
        "\n",
        "\n",
        "v1 = torch.Tensor([0.086660, 0.072990, 0.071651, 0.063590, 0.049635, 0.043322, 0.043218, 0.033978, 0.030749, 0.029959])\n",
        "v2 = torch.Tensor([0.130677, 0.082529, 0.069511, 0.068236, 0.047269, 0.041257, 0.041157, 0.032358, 0.029283, 0.028531])\n",
        "v3 = torch.Tensor([0.161113, 0.120313, 0.075983, 0.063998, 0.043520, 0.037985, 0.037893, 0.029792, 0.026961, 0.026268])\n",
        "\n",
        "\n",
        "sum((v1 - v2) ** 2) ** (1 / 2), sum((v1 - v3) ** 2) ** (1 / 2), sum((v3 - v2) ** 2) ** (1 / 2)"
      ],
      "metadata": {
        "colab": {
          "base_uri": "https://localhost:8080/"
        },
        "id": "Kxssm_1pYuHw",
        "outputId": "b8adfd45-c245-4725-fc3f-244d20239835"
      },
      "execution_count": 15,
      "outputs": [
        {
          "output_type": "execute_result",
          "data": {
            "text/plain": [
              "(tensor(0.0456), tensor(0.0891), tensor(0.0497))"
            ]
          },
          "metadata": {},
          "execution_count": 15
        }
      ]
    },
    {
      "cell_type": "markdown",
      "source": [
        "Вектора достаточно близки"
      ],
      "metadata": {
        "id": "0HqhrMBIZSDV"
      }
    }
  ]
}