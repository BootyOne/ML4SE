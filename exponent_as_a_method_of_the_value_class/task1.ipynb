{
  "cells": [
    {
      "cell_type": "markdown",
      "metadata": {
        "id": "JnT2bC9ueTMY"
      },
      "source": [
        "# Упражнение\n",
        "\n",
        "Реализовать одну из операций:\n",
        "1. $e^x$ --- экспонента\n",
        "2. $\\\\tanh(x)$ --- гиперболический тангенс\n",
        "\n",
        "Как метод класса Value. Для тестирования надо построить небольшой вычислительный граф, запустить обратное распространение и отрисовать"
      ]
    },
    {
      "cell_type": "code",
      "execution_count": 1,
      "metadata": {
        "id": "X872nyf1eTMf"
      },
      "outputs": [],
      "source": [
        "from math import exp\n",
        "from graphviz import Digraph"
      ]
    },
    {
      "cell_type": "markdown",
      "metadata": {
        "id": "GMguH89OeTMh"
      },
      "source": [
        "Так как производная экспоненты равна экспоненте, то градиент предка нужно лишь увеличить на значение экспоненты, умножив на её градиент. Получится функция exp:"
      ]
    },
    {
      "cell_type": "code",
      "execution_count": 2,
      "metadata": {
        "id": "HnHYCJCqeTMi"
      },
      "outputs": [],
      "source": [
        "class Value:\n",
        "    \"\"\" stores a single scalar value and its gradient \"\"\"\n",
        "\n",
        "    def __init__(self, data, _children=(), _op=''):\n",
        "        self.data = data\n",
        "        self.grad = 0\n",
        "        self._backward = lambda: None\n",
        "        self._prev = set(_children)\n",
        "        self._op = _op\n",
        "\n",
        "\n",
        "    def exp(self):\n",
        "        out = Value(exp(self.data), (self,), 'exp')\n",
        "\n",
        "        def _backward():\n",
        "            self.grad += out.data * out.grad\n",
        "        out._backward = _backward\n",
        "\n",
        "        return out\n",
        "    \n",
        "\n",
        "    def __add__(self, other):\n",
        "        other = other if isinstance(other, Value) else Value(other)\n",
        "        out = Value(self.data + other.data, (self, other), '+')\n",
        "\n",
        "        def _backward():\n",
        "            self.grad += out.grad\n",
        "            other.grad += out.grad\n",
        "        out._backward = _backward\n",
        "\n",
        "        return out\n",
        "\n",
        "\n",
        "    def __mul__(self, other):\n",
        "        other = other if isinstance(other, Value) else Value(other)\n",
        "        out = Value(self.data * other.data, (self, other), '*')\n",
        "\n",
        "        def _backward():\n",
        "            self.grad += other.data * out.grad\n",
        "            other.grad += self.data * out.grad\n",
        "        out._backward = _backward\n",
        "\n",
        "        return out\n",
        "\n",
        "\n",
        "    def __pow__(self, other):\n",
        "        assert isinstance(other, (int, float)), \"only supporting int/float powers for now\"\n",
        "        out = Value(self.data**other, (self,), f'**{other}')\n",
        "\n",
        "        def _backward():\n",
        "            self.grad += (other * self.data**(other-1)) * out.grad\n",
        "        out._backward = _backward\n",
        "\n",
        "        return out\n",
        "\n",
        "\n",
        "    def relu(self):\n",
        "        out = Value(0 if self.data < 0 else self.data, (self,), 'ReLU')\n",
        "\n",
        "        def _backward():\n",
        "            self.grad += (out.data > 0) * out.grad\n",
        "        out._backward = _backward\n",
        "\n",
        "        return out\n",
        "\n",
        "\n",
        "    def backward(self):\n",
        "        topo = []\n",
        "        visited = set()\n",
        "        def build_topo(v):\n",
        "            if v not in visited:\n",
        "                visited.add(v)\n",
        "                for child in v._prev:\n",
        "                    build_topo(child)\n",
        "                topo.append(v)\n",
        "        build_topo(self)\n",
        "        self.grad = 1\n",
        "        for v in reversed(topo):\n",
        "            v._backward()\n",
        "\n",
        "\n",
        "    def __neg__(self):\n",
        "        return self * -1\n",
        "\n",
        "\n",
        "    def __radd__(self, other):\n",
        "        return self + other\n",
        "\n",
        "\n",
        "    def __sub__(self, other):\n",
        "        return self + (-other)\n",
        "\n",
        "\n",
        "    def __rsub__(self, other):\n",
        "        return other + (-self)\n",
        "\n",
        "\n",
        "    def __rmul__(self, other):\n",
        "        return self * other\n",
        "\n",
        "\n",
        "    def __truediv__(self, other):\n",
        "        return self * other**-1\n",
        "\n",
        "\n",
        "    def __rtruediv__(self, other):\n",
        "        return other * self**-1\n",
        "\n",
        "\n",
        "    def __repr__(self):\n",
        "        return f\"Value(data={self.data}, grad={self.grad})\""
      ]
    },
    {
      "cell_type": "markdown",
      "metadata": {
        "id": "MTCaaM_WeTMl"
      },
      "source": [
        "# Функция для отрисовки графа вычислений"
      ]
    },
    {
      "cell_type": "code",
      "execution_count": 32,
      "metadata": {
        "id": "dCVzvzsPeTMl"
      },
      "outputs": [],
      "source": [
        "def draw(root, format='svg', rankdir='LR'):\n",
        "    def trace(root):\n",
        "        nodes, edges = set(), set()\n",
        "        def build(v):\n",
        "            if v not in nodes:\n",
        "                nodes.add(v)\n",
        "                for child in v._prev:\n",
        "                    build(child)\n",
        "                    edges.add((child, v))\n",
        "        build(root)\n",
        "        return edges, nodes\n",
        "    assert rankdir in ['LR', 'TB']\n",
        "    edges, nodes = trace(root)\n",
        "    dot = Digraph(format=format, graph_attr={'rankdir': rankdir})\n",
        "\n",
        "    for n in nodes:\n",
        "        dot.node(name=f'{id(n)}', label = \"{data %.2f | grad %.2f}\" % (n.data, n.grad), shape='record')\n",
        "        if n._op:\n",
        "            dot.node(name=f'{id(n)}{n._op}', label=n._op)\n",
        "            dot.edge(f'{id(n)}{n._op}', f'{id(n)}')\n",
        "\n",
        "    for n1, n2 in edges:\n",
        "        dot.edge(f'{id(n1)}', f'{id(n2)}{n2._op}')\n",
        "\n",
        "    return dot"
      ]
    },
    {
      "cell_type": "markdown",
      "metadata": {
        "id": "Kz9laesdeTMm"
      },
      "source": [
        "# Примеры"
      ]
    },
    {
      "cell_type": "code",
      "execution_count": 36,
      "outputs": [
        {
          "output_type": "execute_result",
          "data": {
            "text/plain": [
              "<graphviz.dot.Digraph at 0x7f727df078b0>"
            ],
            "image/svg+xml": "<?xml version=\"1.0\" encoding=\"UTF-8\" standalone=\"no\"?>\n<!DOCTYPE svg PUBLIC \"-//W3C//DTD SVG 1.1//EN\"\n \"http://www.w3.org/Graphics/SVG/1.1/DTD/svg11.dtd\">\n<!-- Generated by graphviz version 2.40.1 (20161225.0304)\n -->\n<!-- Title: %3 Pages: 1 -->\n<svg width=\"686pt\" height=\"45pt\"\n viewBox=\"0.00 0.00 686.00 45.00\" xmlns=\"http://www.w3.org/2000/svg\" xmlns:xlink=\"http://www.w3.org/1999/xlink\">\n<g id=\"graph0\" class=\"graph\" transform=\"scale(1 1) rotate(0) translate(4 41)\">\n<title>%3</title>\n<polygon fill=\"#ffffff\" stroke=\"transparent\" points=\"-4,4 -4,-41 682,-41 682,4 -4,4\"/>\n<!-- 140129715909008 -->\n<g id=\"node1\" class=\"node\">\n<title>140129715909008</title>\n<polygon fill=\"none\" stroke=\"#000000\" points=\"536,-.5 536,-36.5 678,-36.5 678,-.5 536,-.5\"/>\n<text text-anchor=\"middle\" x=\"571\" y=\"-14.8\" font-family=\"Times,serif\" font-size=\"14.00\" fill=\"#000000\">data 4.00</text>\n<polyline fill=\"none\" stroke=\"#000000\" points=\"606,-.5 606,-36.5 \"/>\n<text text-anchor=\"middle\" x=\"642\" y=\"-14.8\" font-family=\"Times,serif\" font-size=\"14.00\" fill=\"#000000\">grad 1.00</text>\n</g>\n<!-- 140129715909008**2 -->\n<g id=\"node2\" class=\"node\">\n<title>140129715909008**2</title>\n<ellipse fill=\"none\" stroke=\"#000000\" cx=\"473\" cy=\"-18.5\" rx=\"27\" ry=\"18\"/>\n<text text-anchor=\"middle\" x=\"473\" y=\"-14.8\" font-family=\"Times,serif\" font-size=\"14.00\" fill=\"#000000\">**2</text>\n</g>\n<!-- 140129715909008**2&#45;&gt;140129715909008 -->\n<g id=\"edge1\" class=\"edge\">\n<title>140129715909008**2&#45;&gt;140129715909008</title>\n<path fill=\"none\" stroke=\"#000000\" d=\"M500.1169,-18.5C507.811,-18.5 516.6084,-18.5 525.7784,-18.5\"/>\n<polygon fill=\"#000000\" stroke=\"#000000\" points=\"525.8405,-22.0001 535.8404,-18.5 525.8404,-15.0001 525.8405,-22.0001\"/>\n</g>\n<!-- 140129715912512 -->\n<g id=\"node3\" class=\"node\">\n<title>140129715912512</title>\n<polygon fill=\"none\" stroke=\"#000000\" points=\"268,-.5 268,-36.5 410,-36.5 410,-.5 268,-.5\"/>\n<text text-anchor=\"middle\" x=\"303\" y=\"-14.8\" font-family=\"Times,serif\" font-size=\"14.00\" fill=\"#000000\">data 2.00</text>\n<polyline fill=\"none\" stroke=\"#000000\" points=\"338,-.5 338,-36.5 \"/>\n<text text-anchor=\"middle\" x=\"374\" y=\"-14.8\" font-family=\"Times,serif\" font-size=\"14.00\" fill=\"#000000\">grad 4.00</text>\n</g>\n<!-- 140129715912512&#45;&gt;140129715909008**2 -->\n<g id=\"edge3\" class=\"edge\">\n<title>140129715912512&#45;&gt;140129715909008**2</title>\n<path fill=\"none\" stroke=\"#000000\" d=\"M410.3157,-18.5C419.0944,-18.5 427.7739,-18.5 435.7479,-18.5\"/>\n<polygon fill=\"#000000\" stroke=\"#000000\" points=\"435.7734,-22.0001 445.7734,-18.5 435.7733,-15.0001 435.7734,-22.0001\"/>\n</g>\n<!-- 140129715912512+ -->\n<g id=\"node4\" class=\"node\">\n<title>140129715912512+</title>\n<ellipse fill=\"none\" stroke=\"#000000\" cx=\"205\" cy=\"-18.5\" rx=\"27\" ry=\"18\"/>\n<text text-anchor=\"middle\" x=\"205\" y=\"-14.8\" font-family=\"Times,serif\" font-size=\"14.00\" fill=\"#000000\">+</text>\n</g>\n<!-- 140129715912512+&#45;&gt;140129715912512 -->\n<g id=\"edge2\" class=\"edge\">\n<title>140129715912512+&#45;&gt;140129715912512</title>\n<path fill=\"none\" stroke=\"#000000\" d=\"M232.1169,-18.5C239.811,-18.5 248.6084,-18.5 257.7784,-18.5\"/>\n<polygon fill=\"#000000\" stroke=\"#000000\" points=\"257.8405,-22.0001 267.8404,-18.5 257.8404,-15.0001 257.8405,-22.0001\"/>\n</g>\n<!-- 140129715912176 -->\n<g id=\"node5\" class=\"node\">\n<title>140129715912176</title>\n<polygon fill=\"none\" stroke=\"#000000\" points=\"0,-.5 0,-36.5 142,-36.5 142,-.5 0,-.5\"/>\n<text text-anchor=\"middle\" x=\"35\" y=\"-14.8\" font-family=\"Times,serif\" font-size=\"14.00\" fill=\"#000000\">data 1.00</text>\n<polyline fill=\"none\" stroke=\"#000000\" points=\"70,-.5 70,-36.5 \"/>\n<text text-anchor=\"middle\" x=\"106\" y=\"-14.8\" font-family=\"Times,serif\" font-size=\"14.00\" fill=\"#000000\">grad 8.00</text>\n</g>\n<!-- 140129715912176&#45;&gt;140129715912512+ -->\n<g id=\"edge4\" class=\"edge\">\n<title>140129715912176&#45;&gt;140129715912512+</title>\n<path fill=\"none\" stroke=\"#000000\" d=\"M142.3157,-18.5C151.0944,-18.5 159.7739,-18.5 167.7479,-18.5\"/>\n<polygon fill=\"#000000\" stroke=\"#000000\" points=\"167.7734,-22.0001 177.7734,-18.5 167.7733,-15.0001 167.7734,-22.0001\"/>\n</g>\n</g>\n</svg>\n"
          },
          "metadata": {},
          "execution_count": 36
        }
      ],
      "source": [
        "x = Value(1)\n",
        "res = (x + x) ** 2\n",
        "res.backward()\n",
        "draw(res)"
      ],
      "metadata": {
        "colab": {
          "base_uri": "https://localhost:8080/",
          "height": 81
        },
        "id": "FyDcGM6ueTMn",
        "outputId": "ecb63799-6531-4142-e699-f506511215cc"
      }
    },
    {
      "cell_type": "code",
      "execution_count": 37,
      "outputs": [
        {
          "output_type": "execute_result",
          "data": {
            "text/plain": [
              "<graphviz.dot.Digraph at 0x7f727deebdf0>"
            ],
            "image/svg+xml": "<?xml version=\"1.0\" encoding=\"UTF-8\" standalone=\"no\"?>\n<!DOCTYPE svg PUBLIC \"-//W3C//DTD SVG 1.1//EN\"\n \"http://www.w3.org/Graphics/SVG/1.1/DTD/svg11.dtd\">\n<!-- Generated by graphviz version 2.40.1 (20161225.0304)\n -->\n<!-- Title: %3 Pages: 1 -->\n<svg width=\"1007pt\" height=\"45pt\"\n viewBox=\"0.00 0.00 1007.00 45.00\" xmlns=\"http://www.w3.org/2000/svg\" xmlns:xlink=\"http://www.w3.org/1999/xlink\">\n<g id=\"graph0\" class=\"graph\" transform=\"scale(1 1) rotate(0) translate(4 41)\">\n<title>%3</title>\n<polygon fill=\"#ffffff\" stroke=\"transparent\" points=\"-4,4 -4,-41 1003,-41 1003,4 -4,4\"/>\n<!-- 140129715794656 -->\n<g id=\"node1\" class=\"node\">\n<title>140129715794656</title>\n<polygon fill=\"none\" stroke=\"#000000\" points=\"0,-.5 0,-36.5 157,-36.5 157,-.5 0,-.5\"/>\n<text text-anchor=\"middle\" x=\"35\" y=\"-14.8\" font-family=\"Times,serif\" font-size=\"14.00\" fill=\"#000000\">data 1.00</text>\n<polyline fill=\"none\" stroke=\"#000000\" points=\"70,-.5 70,-36.5 \"/>\n<text text-anchor=\"middle\" x=\"113.5\" y=\"-14.8\" font-family=\"Times,serif\" font-size=\"14.00\" fill=\"#000000\">grad 482.05</text>\n</g>\n<!-- 140129715797968exp -->\n<g id=\"node5\" class=\"node\">\n<title>140129715797968exp</title>\n<ellipse fill=\"none\" stroke=\"#000000\" cx=\"220\" cy=\"-18.5\" rx=\"27\" ry=\"18\"/>\n<text text-anchor=\"middle\" x=\"220\" y=\"-14.8\" font-family=\"Times,serif\" font-size=\"14.00\" fill=\"#000000\">exp</text>\n</g>\n<!-- 140129715794656&#45;&gt;140129715797968exp -->\n<g id=\"edge5\" class=\"edge\">\n<title>140129715794656&#45;&gt;140129715797968exp</title>\n<path fill=\"none\" stroke=\"#000000\" d=\"M157.112,-18.5C166.0464,-18.5 174.8115,-18.5 182.8279,-18.5\"/>\n<polygon fill=\"#000000\" stroke=\"#000000\" points=\"182.8861,-22.0001 192.8861,-18.5 182.8861,-15.0001 182.8861,-22.0001\"/>\n</g>\n<!-- 140129715797440 -->\n<g id=\"node2\" class=\"node\">\n<title>140129715797440</title>\n<polygon fill=\"none\" stroke=\"#000000\" points=\"566,-.5 566,-36.5 716,-36.5 716,-.5 566,-.5\"/>\n<text text-anchor=\"middle\" x=\"601\" y=\"-14.8\" font-family=\"Times,serif\" font-size=\"14.00\" fill=\"#000000\">data 5.44</text>\n<polyline fill=\"none\" stroke=\"#000000\" points=\"636,-.5 636,-36.5 \"/>\n<text text-anchor=\"middle\" x=\"676\" y=\"-14.8\" font-family=\"Times,serif\" font-size=\"14.00\" fill=\"#000000\">grad 88.67</text>\n</g>\n<!-- 140129715795424**3 -->\n<g id=\"node7\" class=\"node\">\n<title>140129715795424**3</title>\n<ellipse fill=\"none\" stroke=\"#000000\" cx=\"779\" cy=\"-18.5\" rx=\"27\" ry=\"18\"/>\n<text text-anchor=\"middle\" x=\"779\" y=\"-14.8\" font-family=\"Times,serif\" font-size=\"14.00\" fill=\"#000000\">**3</text>\n</g>\n<!-- 140129715797440&#45;&gt;140129715795424**3 -->\n<g id=\"edge4\" class=\"edge\">\n<title>140129715797440&#45;&gt;140129715795424**3</title>\n<path fill=\"none\" stroke=\"#000000\" d=\"M716.0575,-18.5C724.9365,-18.5 733.6807,-18.5 741.6959,-18.5\"/>\n<polygon fill=\"#000000\" stroke=\"#000000\" points=\"741.7627,-22.0001 751.7627,-18.5 741.7626,-15.0001 741.7627,-22.0001\"/>\n</g>\n<!-- 140129715797440+ -->\n<g id=\"node3\" class=\"node\">\n<title>140129715797440+</title>\n<ellipse fill=\"none\" stroke=\"#000000\" cx=\"503\" cy=\"-18.5\" rx=\"27\" ry=\"18\"/>\n<text text-anchor=\"middle\" x=\"503\" y=\"-14.8\" font-family=\"Times,serif\" font-size=\"14.00\" fill=\"#000000\">+</text>\n</g>\n<!-- 140129715797440+&#45;&gt;140129715797440 -->\n<g id=\"edge1\" class=\"edge\">\n<title>140129715797440+&#45;&gt;140129715797440</title>\n<path fill=\"none\" stroke=\"#000000\" d=\"M530.2644,-18.5C537.9365,-18.5 546.7112,-18.5 555.8888,-18.5\"/>\n<polygon fill=\"#000000\" stroke=\"#000000\" points=\"555.9724,-22.0001 565.9724,-18.5 555.9724,-15.0001 555.9724,-22.0001\"/>\n</g>\n<!-- 140129715797968 -->\n<g id=\"node4\" class=\"node\">\n<title>140129715797968</title>\n<polygon fill=\"none\" stroke=\"#000000\" points=\"283,-.5 283,-36.5 440,-36.5 440,-.5 283,-.5\"/>\n<text text-anchor=\"middle\" x=\"318\" y=\"-14.8\" font-family=\"Times,serif\" font-size=\"14.00\" fill=\"#000000\">data 2.72</text>\n<polyline fill=\"none\" stroke=\"#000000\" points=\"353,-.5 353,-36.5 \"/>\n<text text-anchor=\"middle\" x=\"396.5\" y=\"-14.8\" font-family=\"Times,serif\" font-size=\"14.00\" fill=\"#000000\">grad 177.34</text>\n</g>\n<!-- 140129715797968&#45;&gt;140129715797440+ -->\n<g id=\"edge6\" class=\"edge\">\n<title>140129715797968&#45;&gt;140129715797440+</title>\n<path fill=\"none\" stroke=\"#000000\" d=\"M440.112,-18.5C449.0464,-18.5 457.8115,-18.5 465.8279,-18.5\"/>\n<polygon fill=\"#000000\" stroke=\"#000000\" points=\"465.8861,-22.0001 475.8861,-18.5 465.8861,-15.0001 465.8861,-22.0001\"/>\n</g>\n<!-- 140129715797968exp&#45;&gt;140129715797968 -->\n<g id=\"edge2\" class=\"edge\">\n<title>140129715797968exp&#45;&gt;140129715797968</title>\n<path fill=\"none\" stroke=\"#000000\" d=\"M247.2826,-18.5C254.8907,-18.5 263.5936,-18.5 272.7257,-18.5\"/>\n<polygon fill=\"#000000\" stroke=\"#000000\" points=\"272.7721,-22.0001 282.7721,-18.5 272.772,-15.0001 272.7721,-22.0001\"/>\n</g>\n<!-- 140129715795424 -->\n<g id=\"node6\" class=\"node\">\n<title>140129715795424</title>\n<polygon fill=\"none\" stroke=\"#000000\" points=\"842,-.5 842,-36.5 999,-36.5 999,-.5 842,-.5\"/>\n<text text-anchor=\"middle\" x=\"884.5\" y=\"-14.8\" font-family=\"Times,serif\" font-size=\"14.00\" fill=\"#000000\">data 160.68</text>\n<polyline fill=\"none\" stroke=\"#000000\" points=\"927,-.5 927,-36.5 \"/>\n<text text-anchor=\"middle\" x=\"963\" y=\"-14.8\" font-family=\"Times,serif\" font-size=\"14.00\" fill=\"#000000\">grad 1.00</text>\n</g>\n<!-- 140129715795424**3&#45;&gt;140129715795424 -->\n<g id=\"edge3\" class=\"edge\">\n<title>140129715795424**3&#45;&gt;140129715795424</title>\n<path fill=\"none\" stroke=\"#000000\" d=\"M806.2826,-18.5C813.8907,-18.5 822.5936,-18.5 831.7257,-18.5\"/>\n<polygon fill=\"#000000\" stroke=\"#000000\" points=\"831.7721,-22.0001 841.7721,-18.5 831.772,-15.0001 831.7721,-22.0001\"/>\n</g>\n</g>\n</svg>\n"
          },
          "metadata": {},
          "execution_count": 37
        }
      ],
      "source": [
        "x = Value(1).exp()\n",
        "res = (x + x) ** 3\n",
        "res.backward()\n",
        "draw(res)"
      ],
      "metadata": {
        "colab": {
          "base_uri": "https://localhost:8080/",
          "height": 81
        },
        "id": "CphODJrZeTMp",
        "outputId": "022f2ef8-9208-4c93-d7b7-b7ad298caebf"
      }
    },
    {
      "cell_type": "code",
      "execution_count": 38,
      "metadata": {
        "colab": {
          "base_uri": "https://localhost:8080/",
          "height": 81
        },
        "id": "Hokz1Mv9eTMq",
        "outputId": "1d405372-2fe1-4205-b2ac-c3962830319b"
      },
      "outputs": [
        {
          "output_type": "execute_result",
          "data": {
            "text/plain": [
              "<graphviz.dot.Digraph at 0x7f727df07490>"
            ],
            "image/svg+xml": "<?xml version=\"1.0\" encoding=\"UTF-8\" standalone=\"no\"?>\n<!DOCTYPE svg PUBLIC \"-//W3C//DTD SVG 1.1//EN\"\n \"http://www.w3.org/Graphics/SVG/1.1/DTD/svg11.dtd\">\n<!-- Generated by graphviz version 2.40.1 (20161225.0304)\n -->\n<!-- Title: %3 Pages: 1 -->\n<svg width=\"1044pt\" height=\"45pt\"\n viewBox=\"0.00 0.00 1044.00 45.00\" xmlns=\"http://www.w3.org/2000/svg\" xmlns:xlink=\"http://www.w3.org/1999/xlink\">\n<g id=\"graph0\" class=\"graph\" transform=\"scale(1 1) rotate(0) translate(4 41)\">\n<title>%3</title>\n<polygon fill=\"#ffffff\" stroke=\"transparent\" points=\"-4,4 -4,-41 1040,-41 1040,4 -4,4\"/>\n<!-- 140129715911552 -->\n<g id=\"node1\" class=\"node\">\n<title>140129715911552</title>\n<polygon fill=\"none\" stroke=\"#000000\" points=\"872,-.5 872,-36.5 1036,-36.5 1036,-.5 872,-.5\"/>\n<text text-anchor=\"middle\" x=\"918\" y=\"-14.8\" font-family=\"Times,serif\" font-size=\"14.00\" fill=\"#000000\">data 3227.43</text>\n<polyline fill=\"none\" stroke=\"#000000\" points=\"964,-.5 964,-36.5 \"/>\n<text text-anchor=\"middle\" x=\"1000\" y=\"-14.8\" font-family=\"Times,serif\" font-size=\"14.00\" fill=\"#000000\">grad 1.00</text>\n</g>\n<!-- 140129715911552**3 -->\n<g id=\"node2\" class=\"node\">\n<title>140129715911552**3</title>\n<ellipse fill=\"none\" stroke=\"#000000\" cx=\"809\" cy=\"-18.5\" rx=\"27\" ry=\"18\"/>\n<text text-anchor=\"middle\" x=\"809\" y=\"-14.8\" font-family=\"Times,serif\" font-size=\"14.00\" fill=\"#000000\">**3</text>\n</g>\n<!-- 140129715911552**3&#45;&gt;140129715911552 -->\n<g id=\"edge1\" class=\"edge\">\n<title>140129715911552**3&#45;&gt;140129715911552</title>\n<path fill=\"none\" stroke=\"#000000\" d=\"M836.2734,-18.5C843.8644,-18.5 852.5567,-18.5 861.7044,-18.5\"/>\n<polygon fill=\"#000000\" stroke=\"#000000\" points=\"861.7789,-22.0001 871.7788,-18.5 861.7788,-15.0001 861.7789,-22.0001\"/>\n</g>\n<!-- 140129715796288 -->\n<g id=\"node3\" class=\"node\">\n<title>140129715796288</title>\n<polygon fill=\"none\" stroke=\"#000000\" points=\"0,-.5 0,-36.5 165,-36.5 165,-.5 0,-.5\"/>\n<text text-anchor=\"middle\" x=\"35\" y=\"-14.8\" font-family=\"Times,serif\" font-size=\"14.00\" fill=\"#000000\">data 2.00</text>\n<polyline fill=\"none\" stroke=\"#000000\" points=\"70,-.5 70,-36.5 \"/>\n<text text-anchor=\"middle\" x=\"117.5\" y=\"-14.8\" font-family=\"Times,serif\" font-size=\"14.00\" fill=\"#000000\">grad 9682.29</text>\n</g>\n<!-- 140129715795664exp -->\n<g id=\"node5\" class=\"node\">\n<title>140129715795664exp</title>\n<ellipse fill=\"none\" stroke=\"#000000\" cx=\"228\" cy=\"-18.5\" rx=\"27\" ry=\"18\"/>\n<text text-anchor=\"middle\" x=\"228\" y=\"-14.8\" font-family=\"Times,serif\" font-size=\"14.00\" fill=\"#000000\">exp</text>\n</g>\n<!-- 140129715796288&#45;&gt;140129715795664exp -->\n<g id=\"edge4\" class=\"edge\">\n<title>140129715796288&#45;&gt;140129715795664exp</title>\n<path fill=\"none\" stroke=\"#000000\" d=\"M165.0278,-18.5C174.0365,-18.5 182.8414,-18.5 190.8765,-18.5\"/>\n<polygon fill=\"#000000\" stroke=\"#000000\" points=\"190.9483,-22.0001 200.9483,-18.5 190.9483,-15.0001 190.9483,-22.0001\"/>\n</g>\n<!-- 140129715795664 -->\n<g id=\"node4\" class=\"node\">\n<title>140129715795664</title>\n<polygon fill=\"none\" stroke=\"#000000\" points=\"291,-.5 291,-36.5 456,-36.5 456,-.5 291,-.5\"/>\n<text text-anchor=\"middle\" x=\"326\" y=\"-14.8\" font-family=\"Times,serif\" font-size=\"14.00\" fill=\"#000000\">data 7.39</text>\n<polyline fill=\"none\" stroke=\"#000000\" points=\"361,-.5 361,-36.5 \"/>\n<text text-anchor=\"middle\" x=\"408.5\" y=\"-14.8\" font-family=\"Times,serif\" font-size=\"14.00\" fill=\"#000000\">grad 1310.36</text>\n</g>\n<!-- 140129715910880+ -->\n<g id=\"node7\" class=\"node\">\n<title>140129715910880+</title>\n<ellipse fill=\"none\" stroke=\"#000000\" cx=\"519\" cy=\"-18.5\" rx=\"27\" ry=\"18\"/>\n<text text-anchor=\"middle\" x=\"519\" y=\"-14.8\" font-family=\"Times,serif\" font-size=\"14.00\" fill=\"#000000\">+</text>\n</g>\n<!-- 140129715795664&#45;&gt;140129715910880+ -->\n<g id=\"edge6\" class=\"edge\">\n<title>140129715795664&#45;&gt;140129715910880+</title>\n<path fill=\"none\" stroke=\"#000000\" d=\"M456.0278,-18.5C465.0365,-18.5 473.8414,-18.5 481.8765,-18.5\"/>\n<polygon fill=\"#000000\" stroke=\"#000000\" points=\"481.9483,-22.0001 491.9483,-18.5 481.9483,-15.0001 481.9483,-22.0001\"/>\n</g>\n<!-- 140129715795664exp&#45;&gt;140129715795664 -->\n<g id=\"edge2\" class=\"edge\">\n<title>140129715795664exp&#45;&gt;140129715795664</title>\n<path fill=\"none\" stroke=\"#000000\" d=\"M255.0264,-18.5C262.6913,-18.5 271.4948,-18.5 280.768,-18.5\"/>\n<polygon fill=\"#000000\" stroke=\"#000000\" points=\"280.983,-22.0001 290.9829,-18.5 280.9829,-15.0001 280.983,-22.0001\"/>\n</g>\n<!-- 140129715910880 -->\n<g id=\"node6\" class=\"node\">\n<title>140129715910880</title>\n<polygon fill=\"none\" stroke=\"#000000\" points=\"582,-.5 582,-36.5 746,-36.5 746,-.5 582,-.5\"/>\n<text text-anchor=\"middle\" x=\"620.5\" y=\"-14.8\" font-family=\"Times,serif\" font-size=\"14.00\" fill=\"#000000\">data 14.78</text>\n<polyline fill=\"none\" stroke=\"#000000\" points=\"659,-.5 659,-36.5 \"/>\n<text text-anchor=\"middle\" x=\"702.5\" y=\"-14.8\" font-family=\"Times,serif\" font-size=\"14.00\" fill=\"#000000\">grad 655.18</text>\n</g>\n<!-- 140129715910880&#45;&gt;140129715911552**3 -->\n<g id=\"edge5\" class=\"edge\">\n<title>140129715910880&#45;&gt;140129715911552**3</title>\n<path fill=\"none\" stroke=\"#000000\" d=\"M746.2442,-18.5C755.0332,-18.5 763.6275,-18.5 771.498,-18.5\"/>\n<polygon fill=\"#000000\" stroke=\"#000000\" points=\"771.732,-22.0001 781.7319,-18.5 771.7319,-15.0001 771.732,-22.0001\"/>\n</g>\n<!-- 140129715910880+&#45;&gt;140129715910880 -->\n<g id=\"edge3\" class=\"edge\">\n<title>140129715910880+&#45;&gt;140129715910880</title>\n<path fill=\"none\" stroke=\"#000000\" d=\"M546.2734,-18.5C553.8644,-18.5 562.5567,-18.5 571.7044,-18.5\"/>\n<polygon fill=\"#000000\" stroke=\"#000000\" points=\"571.7789,-22.0001 581.7788,-18.5 571.7788,-15.0001 571.7789,-22.0001\"/>\n</g>\n</g>\n</svg>\n"
          },
          "metadata": {},
          "execution_count": 38
        }
      ],
      "source": [
        "x = Value(2).exp()\n",
        "res = (x + x) ** 3\n",
        "res.backward()\n",
        "draw(res)"
      ]
    },
    {
      "cell_type": "code",
      "execution_count": 22,
      "outputs": [
        {
          "output_type": "execute_result",
          "data": {
            "text/plain": [
              "<graphviz.dot.Digraph at 0x7f727deeb550>"
            ],
            "image/svg+xml": "<?xml version=\"1.0\" encoding=\"UTF-8\" standalone=\"no\"?>\n<!DOCTYPE svg PUBLIC \"-//W3C//DTD SVG 1.1//EN\"\n \"http://www.w3.org/Graphics/SVG/1.1/DTD/svg11.dtd\">\n<!-- Generated by graphviz version 2.40.1 (20161225.0304)\n -->\n<!-- Title: %3 Pages: 1 -->\n<svg width=\"1241pt\" height=\"150pt\"\n viewBox=\"0.00 0.00 1241.00 150.00\" xmlns=\"http://www.w3.org/2000/svg\" xmlns:xlink=\"http://www.w3.org/1999/xlink\">\n<g id=\"graph0\" class=\"graph\" transform=\"scale(1 1) rotate(0) translate(4 146)\">\n<title>%3</title>\n<polygon fill=\"#ffffff\" stroke=\"transparent\" points=\"-4,4 -4,-146 1237,-146 1237,4 -4,4\"/>\n<!-- 140129715888672 -->\n<g id=\"node1\" class=\"node\">\n<title>140129715888672</title>\n<polygon fill=\"none\" stroke=\"#000000\" points=\"546,-23.5 546,-59.5 688,-59.5 688,-23.5 546,-23.5\"/>\n<text text-anchor=\"middle\" x=\"581\" y=\"-37.8\" font-family=\"Times,serif\" font-size=\"14.00\" fill=\"#000000\">data 9.39</text>\n<polyline fill=\"none\" stroke=\"#000000\" points=\"616,-23.5 616,-59.5 \"/>\n<text text-anchor=\"middle\" x=\"652\" y=\"-37.8\" font-family=\"Times,serif\" font-size=\"14.00\" fill=\"#000000\">grad 2.00</text>\n</g>\n<!-- 140129715797248+ -->\n<g id=\"node9\" class=\"node\">\n<title>140129715797248+</title>\n<ellipse fill=\"none\" stroke=\"#000000\" cx=\"753\" cy=\"-68.5\" rx=\"27\" ry=\"18\"/>\n<text text-anchor=\"middle\" x=\"753\" y=\"-64.8\" font-family=\"Times,serif\" font-size=\"14.00\" fill=\"#000000\">+</text>\n</g>\n<!-- 140129715888672&#45;&gt;140129715797248+ -->\n<g id=\"edge9\" class=\"edge\">\n<title>140129715888672&#45;&gt;140129715797248+</title>\n<path fill=\"none\" stroke=\"#000000\" d=\"M688.1865,-55.6326C698.1641,-57.6135 708.0501,-59.5761 716.9826,-61.3495\"/>\n<polygon fill=\"#000000\" stroke=\"#000000\" points=\"716.4888,-64.8197 726.9789,-63.3341 717.8519,-57.9537 716.4888,-64.8197\"/>\n</g>\n<!-- 140129715888672+ -->\n<g id=\"node2\" class=\"node\">\n<title>140129715888672+</title>\n<ellipse fill=\"none\" stroke=\"#000000\" cx=\"481\" cy=\"-41.5\" rx=\"27\" ry=\"18\"/>\n<text text-anchor=\"middle\" x=\"481\" y=\"-37.8\" font-family=\"Times,serif\" font-size=\"14.00\" fill=\"#000000\">+</text>\n</g>\n<!-- 140129715888672+&#45;&gt;140129715888672 -->\n<g id=\"edge1\" class=\"edge\">\n<title>140129715888672+&#45;&gt;140129715888672</title>\n<path fill=\"none\" stroke=\"#000000\" d=\"M508.1948,-41.5C516.4502,-41.5 525.979,-41.5 535.8942,-41.5\"/>\n<polygon fill=\"#000000\" stroke=\"#000000\" points=\"535.9053,-45.0001 545.9053,-41.5 535.9052,-38.0001 535.9053,-45.0001\"/>\n</g>\n<!-- 140129715794992 -->\n<g id=\"node3\" class=\"node\">\n<title>140129715794992</title>\n<polygon fill=\"none\" stroke=\"#000000\" points=\"816,-105.5 816,-141.5 958,-141.5 958,-105.5 816,-105.5\"/>\n<text text-anchor=\"middle\" x=\"851\" y=\"-119.8\" font-family=\"Times,serif\" font-size=\"14.00\" fill=\"#000000\">data 2.00</text>\n<polyline fill=\"none\" stroke=\"#000000\" points=\"886,-105.5 886,-141.5 \"/>\n<text text-anchor=\"middle\" x=\"922\" y=\"-119.8\" font-family=\"Times,serif\" font-size=\"14.00\" fill=\"#000000\">grad 7.39</text>\n</g>\n<!-- 140129715795328* -->\n<g id=\"node11\" class=\"node\">\n<title>140129715795328*</title>\n<ellipse fill=\"none\" stroke=\"#000000\" cx=\"1021\" cy=\"-95.5\" rx=\"27\" ry=\"18\"/>\n<text text-anchor=\"middle\" x=\"1021\" y=\"-91.8\" font-family=\"Times,serif\" font-size=\"14.00\" fill=\"#000000\">*</text>\n</g>\n<!-- 140129715794992&#45;&gt;140129715795328* -->\n<g id=\"edge11\" class=\"edge\">\n<title>140129715794992&#45;&gt;140129715795328*</title>\n<path fill=\"none\" stroke=\"#000000\" d=\"M958.3157,-108.5982C967.5446,-106.6698 976.6639,-104.7643 984.9691,-103.0288\"/>\n<polygon fill=\"#000000\" stroke=\"#000000\" points=\"985.9282,-106.4041 995.0008,-100.9327 984.4963,-99.5521 985.9282,-106.4041\"/>\n</g>\n<!-- 140129715888192 -->\n<g id=\"node4\" class=\"node\">\n<title>140129715888192</title>\n<polygon fill=\"none\" stroke=\"#000000\" points=\"0,-24.5 0,-60.5 150,-60.5 150,-24.5 0,-24.5\"/>\n<text text-anchor=\"middle\" x=\"35\" y=\"-38.8\" font-family=\"Times,serif\" font-size=\"14.00\" fill=\"#000000\">data 2.00</text>\n<polyline fill=\"none\" stroke=\"#000000\" points=\"70,-24.5 70,-60.5 \"/>\n<text text-anchor=\"middle\" x=\"110\" y=\"-38.8\" font-family=\"Times,serif\" font-size=\"14.00\" fill=\"#000000\">grad 16.78</text>\n</g>\n<!-- 140129715888192&#45;&gt;140129715888672+ -->\n<g id=\"edge5\" class=\"edge\">\n<title>140129715888192&#45;&gt;140129715888672+</title>\n<path fill=\"none\" stroke=\"#000000\" d=\"M150.2229,-45.5774C162.1889,-45.9612 174.4319,-46.2916 186,-46.5 241.6832,-47.503 364.7652,-47.338 418,-45.5 426.4098,-45.2096 435.4423,-44.7336 443.9673,-44.2095\"/>\n<polygon fill=\"#000000\" stroke=\"#000000\" points=\"444.2861,-47.6962 454.0383,-43.5554 443.8324,-40.7109 444.2861,-47.6962\"/>\n</g>\n<!-- 140129715890400exp -->\n<g id=\"node7\" class=\"node\">\n<title>140129715890400exp</title>\n<ellipse fill=\"none\" stroke=\"#000000\" cx=\"213\" cy=\"-19.5\" rx=\"27\" ry=\"18\"/>\n<text text-anchor=\"middle\" x=\"213\" y=\"-15.8\" font-family=\"Times,serif\" font-size=\"14.00\" fill=\"#000000\">exp</text>\n</g>\n<!-- 140129715888192&#45;&gt;140129715890400exp -->\n<g id=\"edge8\" class=\"edge\">\n<title>140129715888192&#45;&gt;140129715890400exp</title>\n<path fill=\"none\" stroke=\"#000000\" d=\"M150.0575,-29.9904C159.303,-28.4495 168.4023,-26.933 176.6845,-25.5526\"/>\n<polygon fill=\"#000000\" stroke=\"#000000\" points=\"177.3994,-28.9818 186.6879,-23.8853 176.2485,-22.077 177.3994,-28.9818\"/>\n</g>\n<!-- 140129715795136 -->\n<g id=\"node5\" class=\"node\">\n<title>140129715795136</title>\n<polygon fill=\"none\" stroke=\"#000000\" points=\"544,-78.5 544,-114.5 690,-114.5 690,-78.5 544,-78.5\"/>\n<text text-anchor=\"middle\" x=\"581\" y=\"-92.8\" font-family=\"Times,serif\" font-size=\"14.00\" fill=\"#000000\">data &#45;2.00</text>\n<polyline fill=\"none\" stroke=\"#000000\" points=\"618,-78.5 618,-114.5 \"/>\n<text text-anchor=\"middle\" x=\"654\" y=\"-92.8\" font-family=\"Times,serif\" font-size=\"14.00\" fill=\"#000000\">grad 2.00</text>\n</g>\n<!-- 140129715795136&#45;&gt;140129715797248+ -->\n<g id=\"edge6\" class=\"edge\">\n<title>140129715795136&#45;&gt;140129715797248+</title>\n<path fill=\"none\" stroke=\"#000000\" d=\"M690.1752,-81.4345C699.4586,-79.5232 708.6126,-77.6386 716.9397,-75.9242\"/>\n<polygon fill=\"#000000\" stroke=\"#000000\" points=\"717.904,-79.2991 726.9927,-73.8544 716.4923,-72.4429 717.904,-79.2991\"/>\n</g>\n<!-- 140129715890400 -->\n<g id=\"node6\" class=\"node\">\n<title>140129715890400</title>\n<polygon fill=\"none\" stroke=\"#000000\" points=\"276,-.5 276,-36.5 418,-36.5 418,-.5 276,-.5\"/>\n<text text-anchor=\"middle\" x=\"311\" y=\"-14.8\" font-family=\"Times,serif\" font-size=\"14.00\" fill=\"#000000\">data 7.39</text>\n<polyline fill=\"none\" stroke=\"#000000\" points=\"346,-.5 346,-36.5 \"/>\n<text text-anchor=\"middle\" x=\"382\" y=\"-14.8\" font-family=\"Times,serif\" font-size=\"14.00\" fill=\"#000000\">grad 2.00</text>\n</g>\n<!-- 140129715890400&#45;&gt;140129715888672+ -->\n<g id=\"edge10\" class=\"edge\">\n<title>140129715890400&#45;&gt;140129715888672+</title>\n<path fill=\"none\" stroke=\"#000000\" d=\"M418.3157,-30.7408C427.4567,-32.3097 436.4902,-33.8602 444.7316,-35.2748\"/>\n<polygon fill=\"#000000\" stroke=\"#000000\" points=\"444.2478,-38.7429 454.6958,-36.9851 445.432,-31.8438 444.2478,-38.7429\"/>\n</g>\n<!-- 140129715890400exp&#45;&gt;140129715890400 -->\n<g id=\"edge2\" class=\"edge\">\n<title>140129715890400exp&#45;&gt;140129715890400</title>\n<path fill=\"none\" stroke=\"#000000\" d=\"M240.1169,-19.2976C247.811,-19.2402 256.6084,-19.1746 265.7784,-19.1061\"/>\n<polygon fill=\"#000000\" stroke=\"#000000\" points=\"265.8669,-22.6057 275.8404,-19.031 265.8146,-15.6059 265.8669,-22.6057\"/>\n</g>\n<!-- 140129715797248 -->\n<g id=\"node8\" class=\"node\">\n<title>140129715797248</title>\n<polygon fill=\"none\" stroke=\"#000000\" points=\"816,-50.5 816,-86.5 958,-86.5 958,-50.5 816,-50.5\"/>\n<text text-anchor=\"middle\" x=\"851\" y=\"-64.8\" font-family=\"Times,serif\" font-size=\"14.00\" fill=\"#000000\">data 7.39</text>\n<polyline fill=\"none\" stroke=\"#000000\" points=\"886,-50.5 886,-86.5 \"/>\n<text text-anchor=\"middle\" x=\"922\" y=\"-64.8\" font-family=\"Times,serif\" font-size=\"14.00\" fill=\"#000000\">grad 2.00</text>\n</g>\n<!-- 140129715797248&#45;&gt;140129715795328* -->\n<g id=\"edge7\" class=\"edge\">\n<title>140129715797248&#45;&gt;140129715795328*</title>\n<path fill=\"none\" stroke=\"#000000\" d=\"M958.3157,-82.8696C967.5446,-84.7291 976.6639,-86.5666 984.9691,-88.2401\"/>\n<polygon fill=\"#000000\" stroke=\"#000000\" points=\"984.5065,-91.7171 995.0008,-90.2614 985.8892,-84.855 984.5065,-91.7171\"/>\n</g>\n<!-- 140129715797248+&#45;&gt;140129715797248 -->\n<g id=\"edge3\" class=\"edge\">\n<title>140129715797248+&#45;&gt;140129715797248</title>\n<path fill=\"none\" stroke=\"#000000\" d=\"M780.1169,-68.5C787.811,-68.5 796.6084,-68.5 805.7784,-68.5\"/>\n<polygon fill=\"#000000\" stroke=\"#000000\" points=\"805.8405,-72.0001 815.8404,-68.5 805.8404,-65.0001 805.8405,-72.0001\"/>\n</g>\n<!-- 140129715795328 -->\n<g id=\"node10\" class=\"node\">\n<title>140129715795328</title>\n<polygon fill=\"none\" stroke=\"#000000\" points=\"1084,-77.5 1084,-113.5 1233,-113.5 1233,-77.5 1084,-77.5\"/>\n<text text-anchor=\"middle\" x=\"1122.5\" y=\"-91.8\" font-family=\"Times,serif\" font-size=\"14.00\" fill=\"#000000\">data 14.78</text>\n<polyline fill=\"none\" stroke=\"#000000\" points=\"1161,-77.5 1161,-113.5 \"/>\n<text text-anchor=\"middle\" x=\"1197\" y=\"-91.8\" font-family=\"Times,serif\" font-size=\"14.00\" fill=\"#000000\">grad 1.00</text>\n</g>\n<!-- 140129715795328*&#45;&gt;140129715795328 -->\n<g id=\"edge4\" class=\"edge\">\n<title>140129715795328*&#45;&gt;140129715795328</title>\n<path fill=\"none\" stroke=\"#000000\" d=\"M1048.1656,-95.5C1055.8099,-95.5 1064.5529,-95.5 1073.6972,-95.5\"/>\n<polygon fill=\"#000000\" stroke=\"#000000\" points=\"1073.7443,-99.0001 1083.7442,-95.5 1073.7442,-92.0001 1073.7443,-99.0001\"/>\n</g>\n</g>\n</svg>\n"
          },
          "metadata": {},
          "execution_count": 22
        }
      ],
      "source": [
        "x = Value(2)\n",
        "res = (x + x.exp() - 2) * 2\n",
        "res.backward()\n",
        "draw(res)"
      ],
      "metadata": {
        "colab": {
          "base_uri": "https://localhost:8080/",
          "height": 221
        },
        "id": "pmTHlb4AeTMr",
        "outputId": "7ad203cf-c39a-4df9-e205-e56e89343788"
      }
    }
  ],
  "metadata": {
    "kernelspec": {
      "display_name": "Python 3 (ipykernel)",
      "language": "python",
      "name": "python3"
    },
    "language_info": {
      "codemirror_mode": {
        "name": "ipython",
        "version": 3
      },
      "file_extension": ".py",
      "mimetype": "text/x-python",
      "name": "python",
      "nbconvert_exporter": "python",
      "pygments_lexer": "ipython3",
      "version": "3.8.3"
    },
    "colab": {
      "provenance": []
    }
  },
  "nbformat": 4,
  "nbformat_minor": 0
}